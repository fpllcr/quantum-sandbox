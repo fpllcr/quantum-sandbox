{
 "cells": [
  {
   "attachments": {},
   "cell_type": "markdown",
   "metadata": {},
   "source": [
    "# Solving a Data Fitting Problem"
   ]
  },
  {
   "attachments": {},
   "cell_type": "markdown",
   "metadata": {},
   "source": [
    "This data fitting quantum algorithm involves 3 sub-routines:\n",
    "1. a quantum algorithm for performing a pseudo-inverse\n",
    "2. an algorithm for estimating the fit quality\n",
    "3. an algorithm for learning the fit parameters $\\lambda$"
   ]
  },
  {
   "cell_type": "markdown",
   "metadata": {},
   "source": [
    "Input: \n",
    "- quantum state $|y\\rangle$\n",
    "- upper bound $\\kappa$ square root of the conditional number $FF^{\\dag}$ and $F^{\\dag}F$\n",
    "- sparseness $s$ of $F$\n",
    "- error tolerance $\\epsilon$"
   ]
  },
  {
   "cell_type": "code",
   "execution_count": 7,
   "metadata": {},
   "outputs": [],
   "source": [
    "import numpy as np\n",
    "from qiskit import ClassicalRegister, QuantumCircuit, execute, Aer\n",
    "from qiskit.visualization import plot_histogram\n",
    "#from qiskit.algorithms import plot_histogram"
   ]
  },
  {
   "attachments": {},
   "cell_type": "markdown",
   "metadata": {},
   "source": [
    "## Sub-Routine 1: Pseudo-Inverse"
   ]
  },
  {
   "attachments": {},
   "cell_type": "markdown",
   "metadata": {},
   "source": [
    "Also, we set additional specifications for $F$ and $y$. $F \\in \\mathbb{R}^{4\\times3}$. And $y \\in \\mathbb{R}^4$, not a linear combination of the columns of $F$"
   ]
  },
  {
   "cell_type": "markdown",
   "metadata": {},
   "source": [
    "See below we define an $F$ with rank 3 and a $y$ that isn't a linear combination of $F$'s columns"
   ]
  },
  {
   "cell_type": "code",
   "execution_count": 8,
   "metadata": {},
   "outputs": [
    {
     "name": "stdout",
     "output_type": "stream",
     "text": [
      "rank 3\n",
      "F= [[1.  1.  1. ]\n",
      " [0.  0.  1. ]\n",
      " [1.  0.  0. ]\n",
      " [0.5 1.  0. ]]\n",
      "y= [[0]\n",
      " [0]\n",
      " [1]\n",
      " [1]]\n"
     ]
    }
   ],
   "source": [
    "F = np.matrix([[1, 1, 1], [0, 0, 1], [1, 0, 0], [0.5, 1, 0]])\n",
    "\n",
    "\n",
    "print(\"rank\", np.linalg.matrix_rank(F))\n",
    "\n",
    "y = np.array([0, 0, 1, 1])\n",
    "y.resize((4, 1))\n",
    "print(\"F=\", F)\n",
    "print(\"y=\", y)"
   ]
  },
  {
   "cell_type": "markdown",
   "metadata": {},
   "source": [
    "The data fitting problem starts with the need to solving the equation.\n",
    "$$\\lambda = F^{+}y$$\n"
   ]
  },
  {
   "cell_type": "markdown",
   "metadata": {},
   "source": [
    "Where $F^{+} = (F^{\\dag}F)^{-1}F^{\\dag}$. However, the inverse operation is computationally expensive, so we can construct the problem as follows:\n",
    "$$\n",
    "    (F^\\dag F )\\lambda = F^\\dag y\n",
    "$$\n",
    "Which can be solved efficiently using HHL, where $A = F^\\dag F$ and $b = F^\\dag y$. $A$ is $3\\times3$ however, so we need to pad it for its dimensions to be a power of $2$."
   ]
  },
  {
   "cell_type": "code",
   "execution_count": 9,
   "metadata": {},
   "outputs": [],
   "source": [
    "A = F.getH() * F\n",
    "\n",
    "A = np.pad(A, ((0, 1), (0, 1)))\n",
    "A[-1][-1] = 1 \n",
    "\n",
    "b = F.getH() * y\n",
    "b = np.vstack((b, [0]))"
   ]
  },
  {
   "cell_type": "markdown",
   "metadata": {},
   "source": [
    "## Sub-Routine 2: Estimating Fit Quality"
   ]
  },
  {
   "cell_type": "code",
   "execution_count": 10,
   "metadata": {},
   "outputs": [
    {
     "name": "stderr",
     "output_type": "stream",
     "text": [
      "/tmp/ipykernel_23744/305850212.py:4: DeprecationWarning: The HHL class is deprecated as of Qiskit Terra 0.22.0 and will be removed\n",
      "        no sooner than 3 months after the release date.\n",
      "        It is replaced by the tutorial at https://qiskit.org/textbook/ch-applications/hhl_tutorial.html\"\n",
      "        \n",
      "  hhl = HHL(quantum_instance=backend)\n"
     ]
    }
   ],
   "source": [
    "from qiskit.algorithms.linear_solvers.hhl import HHL\n",
    "\n",
    "backend = Aer.get_backend('aer_simulator')\n",
    "hhl = HHL(quantum_instance=backend)\n",
    "accurate_solution = hhl.solve(A, b)\n"
   ]
  },
  {
   "cell_type": "markdown",
   "metadata": {},
   "source": [
    "We must perform the swap test to distinguish between $|y\\rangle$ and $I(F)|\\lambda\\rangle$. The overlap of these two quantum states can be learned through repeated sampling of this swap test to get the approximate value $|\\langle y|I(F)|\\lambda\\rangle|^2$ of the mean of the distribution. The fit quality $E$ can be estimated to be less than $2(1-|\\langle y|I(F)|\\lambda\\rangle|)$. "
   ]
  },
  {
   "cell_type": "markdown",
   "metadata": {},
   "source": [
    "## Sub-Routine 3: Learning Lambda"
   ]
  },
  {
   "cell_type": "markdown",
   "metadata": {},
   "source": [
    "This routine involves repeatedly sampling the solution lambda output from HHL. "
   ]
  },
  {
   "cell_type": "code",
   "execution_count": 11,
   "metadata": {},
   "outputs": [],
   "source": [
    "nShots = 5000"
   ]
  },
  {
   "cell_type": "code",
   "execution_count": 12,
   "metadata": {},
   "outputs": [
    {
     "data": {
      "image/png": "[encoded data removed]",
      "text/plain": [
       "<Figure size 700x500 with 1 Axes>"
      ]
     },
     "execution_count": 12,
     "metadata": {},
     "output_type": "execute_result"
    }
   ],
   "source": [
    "c = ClassicalRegister(2, 'c')\n",
    "qc = QuantumCircuit(c)\n",
    "\n",
    "lambda_circ = accurate_solution.state\n",
    "lambda_circ = lambda_circ.compose(qc)\n",
    "lambda_circ.measure(range(2), c)\n",
    "\n",
    "\n",
    "backend_qasm = Aer.get_backend('qasm_simulator')\n",
    "res = execute(lambda_circ, backend_qasm, shots=nShots).result() \n",
    "\n",
    "counts = res.get_counts()\n",
    "plot_histogram(counts)    \n"
   ]
  },
  {
   "cell_type": "markdown",
   "metadata": {},
   "source": [
    "From this histogram we have the relative importance of each of the fit values and are able to obtain $|lambda\\rangle$ with confidence computed from sub-routine 2. It is apparent that because we padded $|b\\rangle$ with a single $0$ that there is no likelihood of observing $11\\rangle$."
   ]
  }
 ],
 "metadata": {
  "kernelspec": {
   "display_name": "venv",
   "language": "python",
   "name": "python3"
  },
  "language_info": {
   "codemirror_mode": {
    "name": "ipython",
    "version": 3
   },
   "file_extension": ".py",
   "mimetype": "text/x-python",
   "name": "python",
   "nbconvert_exporter": "python",
   "pygments_lexer": "ipython3",
   "version": "3.11.9"
  },
  "orig_nbformat": 4
 },
 "nbformat": 4,
 "nbformat_minor": 2
}
