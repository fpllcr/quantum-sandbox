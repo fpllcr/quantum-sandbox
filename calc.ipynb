{
 "cells": [
  {
   "cell_type": "code",
   "execution_count": 1,
   "metadata": {},
   "outputs": [],
   "source": [
    "import sympy as sp"
   ]
  },
  {
   "cell_type": "code",
   "execution_count": 2,
   "metadata": {},
   "outputs": [],
   "source": [
    "I = sp.Symbol('I')\n",
    "\n",
    "z1 = sp.Symbol('Z1')\n",
    "z2 = sp.Symbol('Z2')\n",
    "z3 = sp.Symbol('Z3')\n",
    "z4 = sp.Symbol('Z4')\n",
    "z5 = sp.Symbol('Z5')\n",
    "z6 = sp.Symbol('Z6')\n",
    "z7 = sp.Symbol('Z7')\n",
    "z8 = sp.Symbol('Z8')\n",
    "z9 = sp.Symbol('Z9')\n",
    "z10 = sp.Symbol('Z10')\n",
    "\n",
    "x1 = (I + z1)/2\n",
    "x2 = (I + z2)/2\n",
    "x3 = (I + z3)/2\n",
    "x4 = (I + z4)/2\n",
    "x5 = (I + z5)/2\n",
    "x6 = (I + z6)/2\n",
    "x7 = (I + z7)/2\n",
    "x8 = (I + z8)/2\n",
    "x9 = (I + z9)/2\n",
    "x10 = (I + z10)/2\n"
   ]
  },
  {
   "cell_type": "code",
   "execution_count": 14,
   "metadata": {},
   "outputs": [],
   "source": [
    "H = (10*I - (2*x1 + 4*x2 + I)*(2*x5 + 4*x6 + 8*x7 + I))**2"
   ]
  },
  {
   "cell_type": "code",
   "execution_count": 16,
   "metadata": {},
   "outputs": [
    {
     "data": {
      "text/latex": [
       "$\\displaystyle 1024 I^{4} + 512 I^{3} Z_{1} + 1024 I^{3} Z_{2} + 256 I^{3} Z_{5} + 512 I^{3} Z_{6} + 1024 I^{3} Z_{7} - 640 I^{3} + 64 I^{2} Z_{1}^{2} + 256 I^{2} Z_{1} Z_{2} + 128 I^{2} Z_{1} Z_{5} + 256 I^{2} Z_{1} Z_{6} + 512 I^{2} Z_{1} Z_{7} - 160 I^{2} Z_{1} + 256 I^{2} Z_{2}^{2} + 256 I^{2} Z_{2} Z_{5} + 512 I^{2} Z_{2} Z_{6} + 1024 I^{2} Z_{2} Z_{7} - 320 I^{2} Z_{2} + 16 I^{2} Z_{5}^{2} + 64 I^{2} Z_{5} Z_{6} + 128 I^{2} Z_{5} Z_{7} - 80 I^{2} Z_{5} + 64 I^{2} Z_{6}^{2} + 256 I^{2} Z_{6} Z_{7} - 160 I^{2} Z_{6} + 256 I^{2} Z_{7}^{2} - 320 I^{2} Z_{7} + 100 I^{2} + 16 I Z_{1}^{2} Z_{5} + 32 I Z_{1}^{2} Z_{6} + 64 I Z_{1}^{2} Z_{7} + 64 I Z_{1} Z_{2} Z_{5} + 128 I Z_{1} Z_{2} Z_{6} + 256 I Z_{1} Z_{2} Z_{7} + 8 I Z_{1} Z_{5}^{2} + 32 I Z_{1} Z_{5} Z_{6} + 64 I Z_{1} Z_{5} Z_{7} - 20 I Z_{1} Z_{5} + 32 I Z_{1} Z_{6}^{2} + 128 I Z_{1} Z_{6} Z_{7} - 40 I Z_{1} Z_{6} + 128 I Z_{1} Z_{7}^{2} - 80 I Z_{1} Z_{7} + 64 I Z_{2}^{2} Z_{5} + 128 I Z_{2}^{2} Z_{6} + 256 I Z_{2}^{2} Z_{7} + 16 I Z_{2} Z_{5}^{2} + 64 I Z_{2} Z_{5} Z_{6} + 128 I Z_{2} Z_{5} Z_{7} - 40 I Z_{2} Z_{5} + 64 I Z_{2} Z_{6}^{2} + 256 I Z_{2} Z_{6} Z_{7} - 80 I Z_{2} Z_{6} + 256 I Z_{2} Z_{7}^{2} - 160 I Z_{2} Z_{7} + Z_{1}^{2} Z_{5}^{2} + 4 Z_{1}^{2} Z_{5} Z_{6} + 8 Z_{1}^{2} Z_{5} Z_{7} + 4 Z_{1}^{2} Z_{6}^{2} + 16 Z_{1}^{2} Z_{6} Z_{7} + 16 Z_{1}^{2} Z_{7}^{2} + 4 Z_{1} Z_{2} Z_{5}^{2} + 16 Z_{1} Z_{2} Z_{5} Z_{6} + 32 Z_{1} Z_{2} Z_{5} Z_{7} + 16 Z_{1} Z_{2} Z_{6}^{2} + 64 Z_{1} Z_{2} Z_{6} Z_{7} + 64 Z_{1} Z_{2} Z_{7}^{2} + 4 Z_{2}^{2} Z_{5}^{2} + 16 Z_{2}^{2} Z_{5} Z_{6} + 32 Z_{2}^{2} Z_{5} Z_{7} + 16 Z_{2}^{2} Z_{6}^{2} + 64 Z_{2}^{2} Z_{6} Z_{7} + 64 Z_{2}^{2} Z_{7}^{2}$"
      ],
      "text/plain": [
       "1024*I**4 + 512*I**3*Z1 + 1024*I**3*Z2 + 256*I**3*Z5 + 512*I**3*Z6 + 1024*I**3*Z7 - 640*I**3 + 64*I**2*Z1**2 + 256*I**2*Z1*Z2 + 128*I**2*Z1*Z5 + 256*I**2*Z1*Z6 + 512*I**2*Z1*Z7 - 160*I**2*Z1 + 256*I**2*Z2**2 + 256*I**2*Z2*Z5 + 512*I**2*Z2*Z6 + 1024*I**2*Z2*Z7 - 320*I**2*Z2 + 16*I**2*Z5**2 + 64*I**2*Z5*Z6 + 128*I**2*Z5*Z7 - 80*I**2*Z5 + 64*I**2*Z6**2 + 256*I**2*Z6*Z7 - 160*I**2*Z6 + 256*I**2*Z7**2 - 320*I**2*Z7 + 100*I**2 + 16*I*Z1**2*Z5 + 32*I*Z1**2*Z6 + 64*I*Z1**2*Z7 + 64*I*Z1*Z2*Z5 + 128*I*Z1*Z2*Z6 + 256*I*Z1*Z2*Z7 + 8*I*Z1*Z5**2 + 32*I*Z1*Z5*Z6 + 64*I*Z1*Z5*Z7 - 20*I*Z1*Z5 + 32*I*Z1*Z6**2 + 128*I*Z1*Z6*Z7 - 40*I*Z1*Z6 + 128*I*Z1*Z7**2 - 80*I*Z1*Z7 + 64*I*Z2**2*Z5 + 128*I*Z2**2*Z6 + 256*I*Z2**2*Z7 + 16*I*Z2*Z5**2 + 64*I*Z2*Z5*Z6 + 128*I*Z2*Z5*Z7 - 40*I*Z2*Z5 + 64*I*Z2*Z6**2 + 256*I*Z2*Z6*Z7 - 80*I*Z2*Z6 + 256*I*Z2*Z7**2 - 160*I*Z2*Z7 + Z1**2*Z5**2 + 4*Z1**2*Z5*Z6 + 8*Z1**2*Z5*Z7 + 4*Z1**2*Z6**2 + 16*Z1**2*Z6*Z7 + 16*Z1**2*Z7**2 + 4*Z1*Z2*Z5**2 + 16*Z1*Z2*Z5*Z6 + 32*Z1*Z2*Z5*Z7 + 16*Z1*Z2*Z6**2 + 64*Z1*Z2*Z6*Z7 + 64*Z1*Z2*Z7**2 + 4*Z2**2*Z5**2 + 16*Z2**2*Z5*Z6 + 32*Z2**2*Z5*Z7 + 16*Z2**2*Z6**2 + 64*Z2**2*Z6*Z7 + 64*Z2**2*Z7**2"
      ]
     },
     "execution_count": 16,
     "metadata": {},
     "output_type": "execute_result"
    }
   ],
   "source": [
    "sp.simplify(H.expand())"
   ]
  },
  {
   "cell_type": "code",
   "execution_count": 32,
   "metadata": {},
   "outputs": [],
   "source": [
    "pl = sp.Symbol('\\phi_L', real=True)\n",
    "dpl = sp.Symbol('\\dot{\\phi_L}', real=True)\n",
    "cj = sp.Symbol('C_J', real=True)\n",
    "cg = sp.Symbol('C_g', real=True)\n",
    "v = sp.Symbol('V', real=True)\n",
    "l = sp.Symbol('L', real=True)\n",
    "p = sp.Symbol('\\Phi', real=True)\n",
    "dp = sp.Symbol('\\dot{\\Phi}', real=True)\n",
    "ej = sp.Symbol('E_J', real=True)\n",
    "p0 = sp.Symbol('\\\\varphi_0', real=True)\n",
    "pj = sp.Symbol('\\phi_J', real=True)\n",
    "dpj = sp.Symbol('\\dot{\\phi_J}', real=True)"
   ]
  },
  {
   "cell_type": "code",
   "execution_count": 37,
   "metadata": {},
   "outputs": [],
   "source": [
    "L1 = 1/2*(cj-cg)*dpl**2 - (cj*dp + cg*v)*dpl + 1/(2*l)*pl**2 + ej*sp.cos((p-pl)/p0)\n",
    "L2 = 1/2*(cj-cg)*dpj**2 + (cj*v + cj*dp)*dpj + 1/(2*l)*(pj-p)**2 + ej*sp.cos(pj/p0)"
   ]
  },
  {
   "cell_type": "code",
   "execution_count": 34,
   "metadata": {},
   "outputs": [
    {
     "data": {
      "text/latex": [
       "$\\displaystyle E_{J} \\cos{\\left(\\frac{\\Phi - \\phi_{L}}{\\varphi_{0}} \\right)} + \\dot{\\phi_L}^{2} \\left(0.5 C_{J} - 0.5 C_{g}\\right) - \\dot{\\phi_L} \\left(C_{J} \\dot{\\Phi} + C_{g} V\\right) + \\frac{\\phi_{L}^{2}}{2 L}$"
      ],
      "text/plain": [
       "E_J*cos((\\Phi - \\phi_L)/\\varphi_0) + \\dot{\\phi_L}**2*(0.5*C_J - 0.5*C_g) - \\dot{\\phi_L}*(C_J*\\dot{\\Phi} + C_g*V) + \\phi_L**2/(2*L)"
      ]
     },
     "execution_count": 34,
     "metadata": {},
     "output_type": "execute_result"
    }
   ],
   "source": [
    "L1"
   ]
  },
  {
   "cell_type": "code",
   "execution_count": 38,
   "metadata": {},
   "outputs": [
    {
     "data": {
      "text/latex": [
       "$\\displaystyle E_{J} \\cos{\\left(\\frac{\\phi_{J}}{\\varphi_{0}} \\right)} + \\dot{\\phi_J}^{2} \\left(0.5 C_{J} - 0.5 C_{g}\\right) + \\dot{\\phi_J} \\left(C_{J} V + C_{J} \\dot{\\Phi}\\right) + \\frac{\\left(- \\Phi + \\phi_{J}\\right)^{2}}{2 L}$"
      ],
      "text/plain": [
       "E_J*cos(\\phi_J/\\varphi_0) + \\dot{\\phi_J}**2*(0.5*C_J - 0.5*C_g) + \\dot{\\phi_J}*(C_J*V + C_J*\\dot{\\Phi}) + (-\\Phi + \\phi_J)**2/(2*L)"
      ]
     },
     "execution_count": 38,
     "metadata": {},
     "output_type": "execute_result"
    }
   ],
   "source": [
    "L2"
   ]
  }
 ],
 "metadata": {
  "kernelspec": {
   "display_name": "venv",
   "language": "python",
   "name": "python3"
  },
  "language_info": {
   "codemirror_mode": {
    "name": "ipython",
    "version": 3
   },
   "file_extension": ".py",
   "mimetype": "text/x-python",
   "name": "python",
   "nbconvert_exporter": "python",
   "pygments_lexer": "ipython3",
   "version": "3.11.9"
  }
 },
 "nbformat": 4,
 "nbformat_minor": 2
}
