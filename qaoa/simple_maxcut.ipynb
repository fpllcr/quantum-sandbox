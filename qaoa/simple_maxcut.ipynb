{
 "cells": [
  {
   "cell_type": "markdown",
   "metadata": {},
   "source": [
    "## Analytically"
   ]
  },
  {
   "cell_type": "code",
   "execution_count": 1,
   "metadata": {},
   "outputs": [],
   "source": [
    "import numpy as np\n",
    "from scipy.optimize import minimize\n",
    "import sympy as sp\n",
    "from sympy.physics.quantum import TensorProduct, Dagger"
   ]
  },
  {
   "cell_type": "code",
   "execution_count": 8,
   "metadata": {},
   "outputs": [],
   "source": [
    "def to_polar(M):\n",
    "    return M.applyfunc(lambda z: round(sp.Abs(z),3) * sp.exp(sp.I * round(sp.arg(z).evalf(),3)))"
   ]
  },
  {
   "cell_type": "code",
   "execution_count": 9,
   "metadata": {},
   "outputs": [],
   "source": [
    "Z = sp.Matrix([[1,0],[0,-1]])\n",
    "X = sp.Matrix([[0,1],[1,0]])\n",
    "I = sp.Matrix.eye(2)\n",
    "\n",
    "plus = 1/sp.sqrt(2) * sp.Matrix([1,1])"
   ]
  },
  {
   "cell_type": "code",
   "execution_count": 10,
   "metadata": {},
   "outputs": [],
   "source": [
    "H_c = sp.Matrix.eye(8) - sp.Rational(1,2) * (TensorProduct(Z,Z,I) + TensorProduct(Z,I,Z))\n",
    "H_m = TensorProduct(X,I,I) + TensorProduct(I,X,I) + TensorProduct(I,I,X)\n",
    "\n",
    "num_layers = 5\n",
    "\n",
    "gammas = [0.5] * num_layers\n",
    "betas = [0.5] * num_layers"
   ]
  },
  {
   "cell_type": "code",
   "execution_count": 47,
   "metadata": {},
   "outputs": [],
   "source": [
    "def circuit(gammas, betas):\n",
    "    phi = TensorProduct(plus, plus, plus)\n",
    "\n",
    "    for i in range(num_layers):\n",
    "        gamma = gammas[i]\n",
    "        beta = betas[i]\n",
    "\n",
    "        phi_c = (sp.exp(-sp.I * gamma * H_c) * phi).evalf()\n",
    "        phi = (sp.exp(-sp.I * beta * H_m) * phi_c).evalf()\n",
    "\n",
    "    expval = (Dagger(phi) * H_c * phi).evalf()[0]\n",
    "\n",
    "    return phi, expval\n",
    "\n",
    "def cost_fn(params):\n",
    "    params = np.array(params)\n",
    "    _, expval = circuit(params[:num_layers], params[num_layers:])\n",
    "    return -expval"
   ]
  },
  {
   "cell_type": "code",
   "execution_count": 48,
   "metadata": {},
   "outputs": [
    {
     "name": "stderr",
     "output_type": "stream",
     "text": [
      "/tmp/ipykernel_6228/1823413083.py:4: RuntimeWarning: Maximum number of iterations has been exceeded.\n",
      "  res = minimize(cost_fn, gammas + betas, method='Nelder-Mead',\n"
     ]
    },
    {
     "name": "stdout",
     "output_type": "stream",
     "text": [
      "0) cost: -1.4756907060903022\n",
      "1) cost: -1.685490623888196\n",
      "2) cost: -1.826937248662998\n",
      "3) cost: -1.924365337551389\n",
      "4) cost: -1.978070868034275\n",
      "5) cost: -1.9991813073303537\n",
      "6) cost: -1.9998904132916855\n",
      "7) cost: -1.9999276508362203\n",
      "8) cost: -1.9999760927959955\n",
      "9) cost: -1.9999760927959955\n"
     ]
    }
   ],
   "source": [
    "iters = 10\n",
    "\n",
    "for i in range(iters):\n",
    "    res = minimize(cost_fn, gammas + betas, method='Nelder-Mead',\n",
    "               options={'disp': True, 'maxiter': 20, 'fatol': 0.1})\n",
    "\n",
    "    gammas = res.x[:num_layers].tolist()\n",
    "    betas = res.x[num_layers:].tolist()\n",
    "\n",
    "    print(f'{i}) cost: {res.fun}')"
   ]
  },
  {
   "cell_type": "code",
   "execution_count": 49,
   "metadata": {},
   "outputs": [],
   "source": [
    "phi, expval = circuit(gammas, betas)"
   ]
  },
  {
   "cell_type": "code",
   "execution_count": 52,
   "metadata": {},
   "outputs": [
    {
     "data": {
      "text/latex": [
       "$\\displaystyle \\left[\\begin{matrix}0.002 e^{0.118 i}\\\\0.002 e^{0.066 i}\\\\0.002 e^{0.066 i}\\\\0.707 e^{1.421 i}\\\\0.707 e^{1.421 i}\\\\0.002 e^{0.066 i}\\\\0.002 e^{0.066 i}\\\\0.002 e^{0.118 i}\\end{matrix}\\right]$"
      ],
      "text/plain": [
       "Matrix([\n",
       "[0.002*exp(0.118*I)],\n",
       "[0.002*exp(0.066*I)],\n",
       "[0.002*exp(0.066*I)],\n",
       "[0.707*exp(1.421*I)],\n",
       "[0.707*exp(1.421*I)],\n",
       "[0.002*exp(0.066*I)],\n",
       "[0.002*exp(0.066*I)],\n",
       "[0.002*exp(0.118*I)]])"
      ]
     },
     "execution_count": 52,
     "metadata": {},
     "output_type": "execute_result"
    }
   ],
   "source": [
    "to_polar(phi)"
   ]
  },
  {
   "cell_type": "markdown",
   "metadata": {},
   "source": [
    "Solutions: $\\ket{011}$ and $\\ket{100}$"
   ]
  },
  {
   "cell_type": "markdown",
   "metadata": {},
   "source": [
    "## Pennylane"
   ]
  },
  {
   "cell_type": "code",
   "execution_count": 2,
   "metadata": {},
   "outputs": [],
   "source": [
    "import networkx as nx\n",
    "import pennylane as qml\n",
    "from pennylane import numpy as np\n",
    "from pennylane import qaoa"
   ]
  },
  {
   "cell_type": "code",
   "execution_count": 3,
   "metadata": {},
   "outputs": [],
   "source": [
    "graph = nx.Graph([(0,1),(0,2)])\n",
    "H_c, H_m = qaoa.maxcut(graph)"
   ]
  },
  {
   "cell_type": "code",
   "execution_count": 11,
   "metadata": {},
   "outputs": [],
   "source": [
    "wires = [0, 1, 2]\n",
    "num_layers = 5\n",
    "dev = qml.device('default.qubit', wires=wires)"
   ]
  },
  {
   "cell_type": "code",
   "execution_count": 12,
   "metadata": {},
   "outputs": [],
   "source": [
    "def qaoa_layer(gamma, beta):\n",
    "    qaoa.cost_layer(gamma, H_c)\n",
    "    qaoa.mixer_layer(beta, H_m)\n",
    "\n",
    "def circuit(gammas, betas):\n",
    "    for w in wires:\n",
    "        qml.Hadamard(w)\n",
    "\n",
    "    qml.layer(qaoa_layer, num_layers, gammas, betas)\n",
    "\n",
    "@qml.qnode(dev)\n",
    "def cost_function(params):\n",
    "    circuit(gammas=params[0], betas=params[1])\n",
    "    return qml.expval(H_c)"
   ]
  },
  {
   "cell_type": "code",
   "execution_count": 10,
   "metadata": {},
   "outputs": [],
   "source": [
    "#Optimization\n",
    "\n",
    "opt = qml.GradientDescentOptimizer()\n",
    "steps = 150\n",
    "params = np.array([[0.5]*num_layers, [0.5]*num_layers], requires_grad=True)\n",
    "\n",
    "for _ in range(steps):\n",
    "    params = opt.step(cost_function, params)"
   ]
  },
  {
   "cell_type": "code",
   "execution_count": 11,
   "metadata": {},
   "outputs": [],
   "source": [
    "@qml.qnode(dev)\n",
    "def circuit_state(params):\n",
    "    circuit(gammas=params[0], betas=params[1])\n",
    "    return qml.state()\n",
    "\n",
    "res = np.round(circuit_state(params), decimals=5)"
   ]
  },
  {
   "cell_type": "code",
   "execution_count": 12,
   "metadata": {},
   "outputs": [],
   "source": [
    "psi = to_polar(sp.Matrix(res.tolist()))"
   ]
  },
  {
   "cell_type": "code",
   "execution_count": 13,
   "metadata": {},
   "outputs": [
    {
     "data": {
      "text/latex": [
       "$\\displaystyle \\left[\\begin{matrix}0.08 e^{- 1.972 i}\\\\0.295 e^{2.452 i}\\\\0.295 e^{2.452 i}\\\\0.565 e^{2.837 i}\\\\0.565 e^{2.837 i}\\\\0.295 e^{2.452 i}\\\\0.295 e^{2.452 i}\\\\0.08 e^{- 1.972 i}\\end{matrix}\\right]$"
      ],
      "text/plain": [
       "Matrix([\n",
       "[0.08*exp(-1.972*I)],\n",
       "[0.295*exp(2.452*I)],\n",
       "[0.295*exp(2.452*I)],\n",
       "[0.565*exp(2.837*I)],\n",
       "[0.565*exp(2.837*I)],\n",
       "[0.295*exp(2.452*I)],\n",
       "[0.295*exp(2.452*I)],\n",
       "[0.08*exp(-1.972*I)]])"
      ]
     },
     "execution_count": 13,
     "metadata": {},
     "output_type": "execute_result"
    }
   ],
   "source": [
    "psi"
   ]
  },
  {
   "cell_type": "code",
   "execution_count": 14,
   "metadata": {},
   "outputs": [],
   "source": [
    "import matplotlib.pyplot as plt\n",
    "from itertools import product\n",
    "\n",
    "def plot_quantum_state_probabilities(psi):\n",
    "    # Convert SymPy matrix to a NumPy array (assuming numeric evaluation)\n",
    "    psi_np = np.array(psi).astype(np.complex128).flatten()\n",
    "\n",
    "    # Compute probabilities\n",
    "    probabilities = np.abs(psi_np) ** 2\n",
    "\n",
    "    # Determine the number of qubits (log2 of vector size)\n",
    "    num_qubits = int(np.log2(len(psi_np)))\n",
    "    \n",
    "    # Generate binary labels for basis states\n",
    "    basis_states = [\"|\" + \"\".join(map(str, bits)) + \">\" \n",
    "                    for bits in product([0, 1], repeat=num_qubits)]\n",
    "    \n",
    "    # Plot the probabilities\n",
    "    plt.figure(figsize=(8, 5))\n",
    "    plt.bar(basis_states, probabilities, color='royalblue', alpha=0.7)\n",
    "    plt.xlabel(\"Basis States\")\n",
    "    plt.ylabel(\"Probability\")\n",
    "    plt.title(\"Quantum State Probabilities\")\n",
    "    plt.ylim(0, 1)\n",
    "    plt.grid(axis='y', linestyle='--', alpha=0.6)\n",
    "    plt.show()"
   ]
  },
  {
   "cell_type": "code",
   "execution_count": 15,
   "metadata": {},
   "outputs": [
    {
     "data": {
      "image/png": "[encoded data removed]",
      "text/plain": [
       "<Figure size 800x500 with 1 Axes>"
      ]
     },
     "metadata": {},
     "output_type": "display_data"
    }
   ],
   "source": [
    "plot_quantum_state_probabilities(psi)"
   ]
  }
 ],
 "metadata": {
  "kernelspec": {
   "display_name": "venv",
   "language": "python",
   "name": "python3"
  },
  "language_info": {
   "codemirror_mode": {
    "name": "ipython",
    "version": 3
   },
   "file_extension": ".py",
   "mimetype": "text/x-python",
   "name": "python",
   "nbconvert_exporter": "python",
   "pygments_lexer": "ipython3",
   "version": "3.11.9"
  }
 },
 "nbformat": 4,
 "nbformat_minor": 2
}
